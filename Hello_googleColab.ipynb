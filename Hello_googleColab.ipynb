{
  "nbformat": 4,
  "nbformat_minor": 0,
  "metadata": {
    "colab": {
      "name": "Hello_googleColab.ipynb",
      "provenance": [],
      "collapsed_sections": [],
      "mount_file_id": "1_pcLzmRMXD00xmtqtZQgK0MT1hV2lO9Y",
      "authorship_tag": "ABX9TyP7SmTUpLfd9RojiuIE2bLQ",
      "include_colab_link": true
    },
    "kernelspec": {
      "name": "python3",
      "display_name": "Python 3"
    }
  },
  "cells": [
    {
      "cell_type": "markdown",
      "metadata": {
        "id": "view-in-github",
        "colab_type": "text"
      },
      "source": [
        "<a href=\"https://colab.research.google.com/github/fumihachi94/atelier-py/blob/googlecolab/Hello_googleColab.ipynb\" target=\"_parent\"><img src=\"https://colab.research.google.com/assets/colab-badge.svg\" alt=\"Open In Colab\"/></a>"
      ]
    },
    {
      "cell_type": "code",
      "metadata": {
        "id": "GVCiYUnYgVgk",
        "colab_type": "code",
        "colab": {
          "base_uri": "https://localhost:8080/",
          "height": 35
        },
        "outputId": "ab84cb83-cb21-4bc5-860f-b2c7dd422946"
      },
      "source": [
        "print(\"hello google colaboratory!\")"
      ],
      "execution_count": 2,
      "outputs": [
        {
          "output_type": "stream",
          "text": [
            "hello google colaboratory!\n"
          ],
          "name": "stdout"
        }
      ]
    },
    {
      "cell_type": "code",
      "metadata": {
        "id": "sQppdeRhghSj",
        "colab_type": "code",
        "colab": {}
      },
      "source": [
        ""
      ],
      "execution_count": null,
      "outputs": []
    },
    {
      "cell_type": "markdown",
      "metadata": {
        "id": "yYrVg8xHhn5D",
        "colab_type": "text"
      },
      "source": [
        "# 新しいセクション"
      ]
    }
  ]
}